{
 "cells": [
  {
   "attachments": {},
   "cell_type": "markdown",
   "metadata": {},
   "source": [
    "# Congratulations!\n",
    "\n",
    "If you are reading this then you have been accepted into the ISC's Python for Data Science Workshop!\n",
    "\n",
    "This is an example Jupyter notebook, please make sure that all the required dependencies are installed correctly prior to attending the Python for Data Science workshop.\n",
    "\n",
    "If you can read this, you probably already have the Python VS Code extension, if not please install it from the Extension Marketplace (make sure it's the one signed by Microsoft)."
   ]
  },
  {
   "attachments": {},
   "cell_type": "markdown",
   "metadata": {},
   "source": [
    "![](media/extension_marketplace.png)"
   ]
  },
  {
   "attachments": {},
   "cell_type": "markdown",
   "metadata": {},
   "source": [
    "The cell above this consists of a screenshot, if you can't see it then press Ctrl+Shift+P and type \"Reload Window\" to restart your VS Code."
   ]
  },
  {
   "attachments": {},
   "cell_type": "markdown",
   "metadata": {},
   "source": [
    "You will also need the Python interpreter, [download the latest version from this link](https://www.python.org/downloads/).\n",
    "\n",
    "After Python is installed, run the following code cell to download all of the required libraries:\n",
    "\n",
    "(A pop-up might appear asking you to install `ipykernel`, make sure you install it!)"
   ]
  },
  {
   "cell_type": "code",
   "execution_count": null,
   "metadata": {},
   "outputs": [],
   "source": [
    "%pip install numpy pandas seaborn scikit-learn matplotlib"
   ]
  },
  {
   "attachments": {},
   "cell_type": "markdown",
   "metadata": {},
   "source": [
    "Once all the libraries are installed, try running the next code cell:"
   ]
  },
  {
   "cell_type": "code",
   "execution_count": null,
   "metadata": {},
   "outputs": [],
   "source": [
    "import numpy as np\n",
    "import pandas as pd\n",
    "import seaborn as sns\n",
    "import sklearn as scl\n",
    "import matplotlib as plt\n",
    "\n",
    "print(\"NumPy: \", np.__version__)\n",
    "print(\"Pandas: \", pd.__version__)\n",
    "print(\"Seaborn: \", sns.__version__)\n",
    "print(\"Scikit-learn: \", scl.__version__)\n",
    "print(\"matplotlib: \", plt.__version__)\n",
    "\n",
    "print(\"All good, ISC rules!\")"
   ]
  },
  {
   "attachments": {},
   "cell_type": "markdown",
   "metadata": {},
   "source": [
    "If you run into any problem, please inform us at the Python for DS Discord channel!"
   ]
  }
 ],
 "metadata": {
  "kernelspec": {
   "display_name": "Python 3.10.8 64-bit",
   "language": "python",
   "name": "python3"
  },
  "language_info": {
   "codemirror_mode": {
    "name": "ipython",
    "version": 3
   },
   "file_extension": ".py",
   "mimetype": "text/x-python",
   "name": "python",
   "nbconvert_exporter": "python",
   "pygments_lexer": "ipython3",2
   "version": "3.11.1 (tags/v3.11.1:a7a450f, Dec  6 2022, 19:58:39) [MSC v.1934 64 bit (AMD64)]"
  },
  "orig_nbformat": 4,
  "vscode": {
   "interpreter": {
    "hash": "e7370f93d1d0cde622a1f8e1c04877d8463912d04d973331ad4851f04de6915a"
   }
  }
 },
 "nbformat": 4,
 "nbformat_minor": 2
}
