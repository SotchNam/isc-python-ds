{
 "cells": [
  {
   "attachments": {},
   "cell_type": "markdown",
   "metadata": {},
   "source": [
    "# Test\n",
    "\n",
    "This is an example Jupyter notebook, please make sure that all the required dependencies are installed correctly prior to attending the Python for Data Science workshop.\n",
    "\n",
    "If you can read this, you probably already have the Python VS Code extension, if not please install it from the Extension Marketplace (make sure it's the one signed by Microsoft).\n",
    "\n",
    "You will also need the Python interpreter, [download the latest version from this link](https://www.python.org/downloads/).\n",
    "\n",
    "After Python is installed, run the following code cell to download all of the required libraries:\n",
    "\n",
    "(A pop-up might appear asking you to install `ipykernel`, make sure you install it!)"
   ]
  },
  {
   "cell_type": "code",
   "execution_count": 3,
   "metadata": {},
   "outputs": [
    {
     "name": "stdout",
     "output_type": "stream",
     "text": [
      "Defaulting to user installation because normal site-packages is not writeable\n",
      "Requirement already satisfied: numpy in /usr/lib/python3.10/site-packages (1.23.5)\n",
      "Requirement already satisfied: pandas in /home/sotch/.local/lib/python3.10/site-packages (1.5.1)\n",
      "Requirement already satisfied: seaborn in /home/sotch/.local/lib/python3.10/site-packages (0.12.1)\n",
      "Requirement already satisfied: scikit-learn in /home/sotch/.local/lib/python3.10/site-packages (1.1.3)\n",
      "Requirement already satisfied: matplotlib in /home/sotch/.local/lib/python3.10/site-packages (3.5.2)\n",
      "Requirement already satisfied: pytz>=2020.1 in /usr/lib/python3.10/site-packages (from pandas) (2022.6)\n",
      "Requirement already satisfied: python-dateutil>=2.8.1 in /home/sotch/.local/lib/python3.10/site-packages (from pandas) (2.8.2)\n",
      "Requirement already satisfied: threadpoolctl>=2.0.0 in /home/sotch/.local/lib/python3.10/site-packages (from scikit-learn) (3.1.0)\n",
      "Requirement already satisfied: scipy>=1.3.2 in /usr/lib/python3.10/site-packages (from scikit-learn) (1.9.3)\n",
      "Requirement already satisfied: joblib>=1.0.0 in /home/sotch/.local/lib/python3.10/site-packages (from scikit-learn) (1.2.0)\n",
      "Requirement already satisfied: cycler>=0.10 in /home/sotch/.local/lib/python3.10/site-packages (from matplotlib) (0.11.0)\n",
      "Requirement already satisfied: kiwisolver>=1.0.1 in /home/sotch/.local/lib/python3.10/site-packages (from matplotlib) (1.4.4)\n",
      "Requirement already satisfied: fonttools>=4.22.0 in /home/sotch/.local/lib/python3.10/site-packages (from matplotlib) (4.34.4)\n",
      "Requirement already satisfied: pillow>=6.2.0 in /usr/lib/python3.10/site-packages (from matplotlib) (9.3.0)\n",
      "Requirement already satisfied: packaging>=20.0 in /usr/lib/python3.10/site-packages (from matplotlib) (21.3)\n",
      "Requirement already satisfied: pyparsing>=2.2.1 in /usr/lib/python3.10/site-packages (from matplotlib) (3.0.9)\n",
      "Requirement already satisfied: six>=1.5 in /usr/lib/python3.10/site-packages (from python-dateutil>=2.8.1->pandas) (1.16.0)\n",
      "Note: you may need to restart the kernel to use updated packages.\n"
     ]
    }
   ],
   "source": [
    "%pip install numpy pandas seaborn scikit-learn matplotlib"
   ]
  },
  {
   "attachments": {},
   "cell_type": "markdown",
   "metadata": {},
   "source": [
    "Once all the libraries are installed, try running the next code cell:"
   ]
  },
  {
   "cell_type": "code",
   "execution_count": 4,
   "metadata": {},
   "outputs": [
    {
     "name": "stdout",
     "output_type": "stream",
     "text": [
      "NumPy:  1.23.5\n",
      "Pandas:  1.5.1\n",
      "Seaborn:  0.12.1\n",
      "Scikit-learn:  1.1.3\n",
      "matplotlib:  3.5.2\n",
      "All good, ISC rules!\n"
     ]
    }
   ],
   "source": [
    "import numpy as np\n",
    "import pandas as pd\n",
    "import seaborn as sns\n",
    "import sklearn as scl\n",
    "import matplotlib as plt\n",
    "\n",
    "print(\"NumPy: \", np.__version__)\n",
    "print(\"Pandas: \", pd.__version__)\n",
    "print(\"Seaborn: \", sns.__version__)\n",
    "print(\"Scikit-learn: \", scl.__version__)\n",
    "print(\"matplotlib: \", plt.__version__)\n",
    "\n",
    "print(\"All good, ISC rules!\")"
   ]
  },
  {
   "attachments": {},
   "cell_type": "markdown",
   "metadata": {},
   "source": [
    "If you run into any problem, please inform us at the Python for DS Discord channel!"
   ]
  }
 ],
 "metadata": {
  "kernelspec": {
   "display_name": "Python 3.10.8 64-bit",
   "language": "python",
   "name": "python3"
  },
  "language_info": {
   "codemirror_mode": {
    "name": "ipython",
    "version": 3
   },
   "file_extension": ".py",
   "mimetype": "text/x-python",
   "name": "python",
   "nbconvert_exporter": "python",
   "pygments_lexer": "ipython3",
   "version": "3.10.8"
  },
  "orig_nbformat": 4,
  "vscode": {
   "interpreter": {
    "hash": "e7370f93d1d0cde622a1f8e1c04877d8463912d04d973331ad4851f04de6915a"
   }
  }
 },
 "nbformat": 4,
 "nbformat_minor": 2
}
